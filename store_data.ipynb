{
 "cells": [
  {
   "cell_type": "code",
   "execution_count": 22,
   "metadata": {},
   "outputs": [],
   "source": [
    "import tweepy\n",
    "from pymongo import MongoClient\n",
    "\n",
    "MONGO_CONNECTION_STR = 'mongo url'\n",
    "TWEEPY_CLIENT = tweepy.Client(\"X keys\")"
   ]
  },
  {
   "cell_type": "code",
   "execution_count": 23,
   "metadata": {},
   "outputs": [],
   "source": [
    "def connect_mongo():\n",
    "    client = MongoClient(MONGO_CONNECTION_STR)\n",
    "    db = client.twitter_db\n",
    "    collection = db.tweets   \n",
    "\n",
    "    return collection"
   ]
  },
  {
   "cell_type": "code",
   "execution_count": 24,
   "metadata": {},
   "outputs": [],
   "source": [
    "def scrape_and_store_tweets():\n",
    "    to_be_insert_tweets = []\n",
    "\n",
    "    resp = TWEEPY_CLIENT.search_recent_tweets(query='Mike Tyson', max_results=10, tweet_fields=['text', 'lang'])\n",
    "\n",
    "\n",
    "    for tweet in resp.data:\n",
    "        if tweet['lang'] == 'en' and len(tweet['text']) > 10:\n",
    "            to_be_insert_tweets.append({\n",
    "                \"text\": tweet['text']\n",
    "            })\n",
    "\n",
    "    collection = connect_mongo()\n",
    "    collection.insert_many(to_be_insert_tweets)\n"
   ]
  },
  {
   "cell_type": "code",
   "execution_count": null,
   "metadata": {},
   "outputs": [],
   "source": [
    "scrape_and_store_tweets()"
   ]
  }
 ],
 "metadata": {
  "kernelspec": {
   "display_name": "Python 3",
   "language": "python",
   "name": "python3"
  },
  "language_info": {
   "codemirror_mode": {
    "name": "ipython",
    "version": 3
   },
   "file_extension": ".py",
   "mimetype": "text/x-python",
   "name": "python",
   "nbconvert_exporter": "python",
   "pygments_lexer": "ipython3",
   "version": "3.9.6"
  }
 },
 "nbformat": 4,
 "nbformat_minor": 2
}
